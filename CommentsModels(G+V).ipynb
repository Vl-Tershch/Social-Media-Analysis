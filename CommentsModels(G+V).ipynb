{
  "nbformat": 4,
  "nbformat_minor": 0,
  "metadata": {
    "colab": {
      "provenance": []
    },
    "kernelspec": {
      "name": "python3",
      "display_name": "Python 3"
    },
    "language_info": {
      "name": "python"
    }
  },
  "cells": [
    {
      "cell_type": "code",
      "execution_count": 1,
      "metadata": {
        "colab": {
          "base_uri": "https://localhost:8080/"
        },
        "id": "_hfaDM1o21Qu",
        "outputId": "a81d2a02-723f-4a88-a90a-333633ee8870"
      },
      "outputs": [
        {
          "output_type": "stream",
          "name": "stdout",
          "text": [
            "Mounted at /content/drive\n"
          ]
        }
      ],
      "source": [
        "from google.colab import drive\n",
        "drive.mount('/content/drive')"
      ]
    },
    {
      "cell_type": "code",
      "source": [
        "import requests\n",
        "import pandas as pd\n",
        "import json\n",
        "import matplotlib.pyplot as plt\n",
        "import pickle\n",
        "import math\n",
        "import networkx as nx\n",
        "import numpy as np\n",
        "import random\n",
        "import time\n",
        "import statistics\n",
        "from itertools import chain "
      ],
      "metadata": {
        "id": "5ZKAfBao25Pk"
      },
      "execution_count": 2,
      "outputs": []
    },
    {
      "cell_type": "code",
      "source": [
        "G1 = nx.read_edgelist('/content/drive/MyDrive/ids_public1 (2).txt')\n",
        "node_count = len(list(G1.nodes()))\n",
        "print('Число вершин:', node_count)\n",
        "print('Число связей:', len(list(G1.edges())))\n",
        "print('Кластерный коэффициент: ', nx.average_clustering(G1))\n",
        "all_possible_count = int(node_count*(node_count - 1)/2)\n",
        "print('Число всех возможных связей: ', all_possible_count)"
      ],
      "metadata": {
        "colab": {
          "base_uri": "https://localhost:8080/"
        },
        "id": "LvUnmOZK26v6",
        "outputId": "804a0471-5e24-4bb7-d6b4-ef9b311e17e3"
      },
      "execution_count": 3,
      "outputs": [
        {
          "output_type": "stream",
          "name": "stdout",
          "text": [
            "Число вершин: 6345\n",
            "Число связей: 139658\n",
            "Кластерный коэффициент:  0.7346333422439906\n",
            "Число всех возможных связей:  20126340\n"
          ]
        }
      ]
    },
    {
      "cell_type": "code",
      "source": [
        "L_connected_subgraphs = []\n",
        "connected_graphs = list((G1.subgraph(c) for c in nx.connected_components(G1)))\n",
        "for x in connected_graphs:    \n",
        "    if len(x) < 5:\n",
        "        continue\n",
        "    path_length = nx.average_shortest_path_length(x)\n",
        "    L_connected_subgraphs.append(path_length)\n",
        "    \n",
        "L = np.mean(L_connected_subgraphs)\n",
        "print(\"Средняя длина пути = \", L)"
      ],
      "metadata": {
        "colab": {
          "base_uri": "https://localhost:8080/"
        },
        "id": "GMThCJdS3MLi",
        "outputId": "ee3c501a-4e58-4bac-9f8c-579f47419d86"
      },
      "execution_count": 5,
      "outputs": [
        {
          "output_type": "stream",
          "name": "stdout",
          "text": [
            "Средняя длина пути =  2.598616147125738\n"
          ]
        }
      ]
    },
    {
      "cell_type": "code",
      "source": [
        "G1_to_draw = G1.subgraph(list(G1.nodes())[:12500])\n",
        "point_size = 13\n",
        "point_color = 'purple'\n",
        "edge_size = 2\n",
        "color_map = []\n",
        "for node in G1_to_draw:\n",
        "    color_map.append(point_color)\n",
        "size_map = []\n",
        "for i in nx.get_edge_attributes(G1_to_draw,'weight').values():\n",
        "    size_map.append(edge_size)\n",
        "\n",
        "### Как-то отвечает за размер графика\n",
        "plt.figure(3,figsize=(10,10)) \n",
        "###\n",
        "\n",
        "nx.draw(G1_to_draw, node_size=point_size, node_color=color_map, width=size_map, pos=nx.spring_layout(G1_to_draw))\n",
        "plt.show()"
      ],
      "metadata": {
        "id": "rWsKmB843VvQ",
        "colab": {
          "base_uri": "https://localhost:8080/",
          "height": 751
        },
        "outputId": "240d12ed-6e2e-4d13-c42c-9aa7aaf8faf3"
      },
      "execution_count": 56,
      "outputs": [
        {
          "output_type": "display_data",
          "data": {
            "text/plain": [
              "<Figure size 720x720 with 1 Axes>"
            ],
            "image/png": "[encoded data removed]"
          },
          "metadata": {}
        }
      ]
    },
    {
      "cell_type": "code",
      "source": [
        "# Функция построения графика распределения степеней вершин в графе\n",
        "def draw_nodes_degree_distribution(G):\n",
        "    degree = dict(G.degree())\n",
        "    degree_values = sorted(set(degree.values()))\n",
        "    hist = [list(degree.values()).count(x) for x in degree_values]\n",
        "    plt.plot(degree_values, hist, 'ro-')\n",
        "    plt.xlabel(\"Количество связей\")\n",
        "    plt.ylabel(\"Количество вершин\")\n",
        "    plt.title(\"Распределение степеней графов\")"
      ],
      "metadata": {
        "id": "EO9VIsv_3YX9"
      },
      "execution_count": 7,
      "outputs": []
    },
    {
      "cell_type": "code",
      "source": [
        "draw_nodes_degree_distribution(G1)"
      ],
      "metadata": {
        "id": "B-aNnFSN3aRl",
        "colab": {
          "base_uri": "https://localhost:8080/",
          "height": 295
        },
        "outputId": "696fc3b9-c488-403f-8b33-1803a857ac06"
      },
      "execution_count": 8,
      "outputs": [
        {
          "output_type": "display_data",
          "data": {
            "text/plain": [
              "<Figure size 432x288 with 1 Axes>"
            ],
            "image/png": "[encoded data removed]"
          },
          "metadata": {
            "needs_background": "light"
          }
        }
      ]
    },
    {
      "cell_type": "code",
      "source": [
        "# Получение коэффициентов схожести графа с моделью Малого мира\n",
        "def small_world_similarity(G):\n",
        "    L_s, C_s = [], []\n",
        "\n",
        "    ### исходные параметры\n",
        "    L = 2.598616147125738\n",
        "    C = 0.7346333422439906\n",
        "    ###\n",
        "\n",
        "    for i in range(1):\n",
        "        connected_components_count = 10\n",
        "        while connected_components_count != 1:\n",
        "\n",
        "            ### 2 и 3 параметры изменяемые\n",
        "            generated_G = nx.watts_strogatz_graph(len(G), 45, 0.2)\n",
        "            ###\n",
        "\n",
        "            A = (generated_G.subgraph(c) for c in nx.connected_components(generated_G))\n",
        "            A = list(A)            \n",
        "            connected_components_count = len(A)\n",
        "            \n",
        "        print(\"Связи исходные = \", nx.number_of_edges(G), \"Связи сгенерированные = \", nx.number_of_edges(generated_G))        \n",
        "        L_s_ = nx.average_shortest_path_length(generated_G)\n",
        "        C_s_ = nx.average_clustering(generated_G)\n",
        "        print(\"L_mm = \", L_s_)\n",
        "        print(\"C_mm = \", C_s_)\n",
        "        L_s.append(L_s_)\n",
        "        C_s.append(C_s_)\n",
        "        draw_nodes_degree_distribution(generated_G)\n",
        "    \n",
        "    lambda_ = L / np.mean(L_s)\n",
        "    gamma_ = C / np.mean(C_s)\n",
        "    return generated_G"
      ],
      "metadata": {
        "id": "l3HPd1Ad3ds1"
      },
      "execution_count": 51,
      "outputs": []
    },
    {
      "cell_type": "code",
      "source": [
        "cmWorld = small_world_similarity(G1)"
      ],
      "metadata": {
        "id": "_FNj-Fop3riB",
        "colab": {
          "base_uri": "https://localhost:8080/",
          "height": 346
        },
        "outputId": "d46c7569-268f-481d-9b5d-3d000303a527"
      },
      "execution_count": 52,
      "outputs": [
        {
          "output_type": "stream",
          "name": "stdout",
          "text": [
            "Связи исходные =  139658 Связи сгенерированные =  139590\n",
            "L_mm =  2.912626736902984\n",
            "C_mm =  0.37606841153461534\n"
          ]
        },
        {
          "output_type": "display_data",
          "data": {
            "text/plain": [
              "<Figure size 432x288 with 1 Axes>"
            ],
            "image/png": "[encoded data removed]"
          },
          "metadata": {
            "needs_background": "light"
          }
        }
      ]
    },
    {
      "cell_type": "code",
      "source": [
        "# Получение коэффициентов схожести графа с моделью Эрдоша-Реньи (случайный граф)\n",
        "def erdos_renyi_similarity(G):\n",
        "    er_graph = nx.erdos_renyi_graph(len(G), p=node_count/all_possible_count) \n",
        "    draw_nodes_degree_distribution(er_graph)\n",
        "    L_connected_subgraphs = []\n",
        "    connected_graphs = list((er_graph.subgraph(c) for c in nx.connected_components(er_graph)))\n",
        "    for x in connected_graphs:\n",
        "        path_length = nx.average_shortest_path_length(x)\n",
        "        L_connected_subgraphs.append(path_length)\n",
        "    \n",
        "    L = np.mean(L_connected_subgraphs)\n",
        "    C = nx.average_clustering(er_graph)\n",
        "    print(\"L_er = \", L)\n",
        "    print(\"С_er = \", C)\n",
        "\n",
        "    plt.show()"
      ],
      "metadata": {
        "id": "QAfxQwdX3tfy"
      },
      "execution_count": 47,
      "outputs": []
    },
    {
      "cell_type": "code",
      "source": [
        "erdos_renyi_similarity(G1)"
      ],
      "metadata": {
        "id": "8S2VxLve3vaQ",
        "colab": {
          "base_uri": "https://localhost:8080/",
          "height": 329
        },
        "outputId": "c753b09a-64b2-4ea6-f642-280df2a968a8"
      },
      "execution_count": 48,
      "outputs": [
        {
          "output_type": "stream",
          "name": "stdout",
          "text": [
            "L_er =  0.21342300567250755\n",
            "С_er =  0.0002649255131524635\n"
          ]
        },
        {
          "output_type": "display_data",
          "data": {
            "text/plain": [
              "<Figure size 432x288 with 1 Axes>"
            ],
            "image/png": "[encoded data removed]"
          },
          "metadata": {
            "needs_background": "light"
          }
        }
      ]
    },
    {
      "cell_type": "code",
      "source": [
        "def barabasi_albert_similarity(G):\n",
        "    ### 2 параметр изменяемый\n",
        "    ba_graph = nx.barabasi_albert_graph(len(G), 31)\n",
        "    ###\n",
        "    L = nx.average_shortest_path_length(ba_graph)\n",
        "    C = nx.average_clustering(ba_graph)\n",
        "    draw_nodes_degree_distribution(ba_graph)\n",
        "    print('L_ba =', L)\n",
        "    print('C_ba =', C)\n",
        "    print('Связи = ', len(list(ba_graph.edges())))\n",
        "    return ba_graph"
      ],
      "metadata": {
        "id": "E-5-Gyai3xeQ"
      },
      "execution_count": 40,
      "outputs": []
    },
    {
      "cell_type": "code",
      "source": [
        "baGraph = barabasi_albert_similarity(G1)"
      ],
      "metadata": {
        "id": "pwwd9M8f3zRd",
        "colab": {
          "base_uri": "https://localhost:8080/",
          "height": 346
        },
        "outputId": "f759e869-d225-4b55-c933-b2ac4ab56a2a"
      },
      "execution_count": 41,
      "outputs": [
        {
          "output_type": "stream",
          "name": "stdout",
          "text": [
            "L_ba = 2.442363539520847\n",
            "C_ba = 0.034633447111514004\n",
            "Связи =  195734\n"
          ]
        },
        {
          "output_type": "display_data",
          "data": {
            "text/plain": [
              "<Figure size 432x288 with 1 Axes>"
            ],
            "image/png": "[encoded data removed]"
          },
          "metadata": {
            "needs_background": "light"
          }
        }
      ]
    },
    {
      "cell_type": "code",
      "source": [
        "### Свои значения - исходные и рассчитанные\n",
        "L = 2.598616147125738\n",
        "C = 0.7346333422439906\n",
        "E = 139658\n",
        "\n",
        "Cm = 0.3792563399918787\n",
        "Lm = 2.915939013253279\n",
        "Em = 139590\n",
        "\n",
        "Cb = 0.034633447111514004\n",
        "Lb = 2.442363539520847\n",
        "Eb = 195734\n",
        "\n",
        "# параметр = 5\n",
        "# Cb = 0.005469077321709941\n",
        "# Lb = 3.7570533908347663\n",
        "# Eb = 73810\n",
        "\n",
        "# параметр = 10\n",
        "# Cb = 0.008064410685928808\n",
        "# Lb = 3.1597141497058634\n",
        "# Eb = 147570\n",
        "### "
      ],
      "metadata": {
        "id": "_ty5QCP931bH"
      },
      "execution_count": 43,
      "outputs": []
    },
    {
      "cell_type": "code",
      "source": [
        "def otnos_error(fact, approx):\n",
        "    return abs(fact-approx)/fact"
      ],
      "metadata": {
        "id": "yPJLVjBD32IJ"
      },
      "execution_count": 44,
      "outputs": []
    },
    {
      "cell_type": "code",
      "source": [
        "# baGraph, cmWorld\n",
        "degreeBA = dict(baGraph.degree())\n",
        "degree_valuesBA = sorted(set(degreeBA.values()))\n",
        "histBA = [list(degreeBA.values()).count(x) for x in degree_valuesBA]\n",
        "\n",
        "degreeSW = dict(cmWorld.degree())\n",
        "degree_valuesSW = sorted(set(degreeSW.values()))\n",
        "histSW = [list(degreeSW.values()).count(x) for x in degree_valuesSW]\n",
        "\n",
        "degree = dict(G1.degree())\n",
        "degree_values = sorted(set(degree.values()))\n",
        "hist = [list(degree.values()).count(x) for x in degree_values]\n",
        "\n",
        "sum = 0\n",
        "for x in range(201):\n",
        "    if x not in degree_values:\n",
        "        continue\n",
        "    if x not in degree_valuesBA:\n",
        "        valueBA = 0\n",
        "    else:\n",
        "        indexBA = degree_valuesBA.index(x)\n",
        "        valueBA = histBA[indexBA]\n",
        "    value_real = hist[degree_values.index(x)]\n",
        "    sum += otnos_error(value_real, valueBA)\n",
        "Eba = sum / 200\n",
        "print(Eba)\n",
        "\n",
        "sum = 0\n",
        "for x in range(201):\n",
        "    if x not in degree_values:\n",
        "        continue\n",
        "    if x not in degree_valuesSW:\n",
        "        valueSW = 0\n",
        "    else:\n",
        "        indexSW = degree_valuesSW.index(x)\n",
        "        valueSW = histSW[indexSW]\n",
        "    value_real = hist[degree_values.index(x)]\n",
        "    sum += otnos_error(value_real, valueSW)\n",
        "Esw = sum / 200\n",
        "print(Esw)"
      ],
      "metadata": {
        "id": "AewYx8zt36QR",
        "colab": {
          "base_uri": "https://localhost:8080/"
        },
        "outputId": "3d0ae031-ceb8-45c8-f1d6-06de0ffdd185"
      },
      "execution_count": 45,
      "outputs": [
        {
          "output_type": "stream",
          "name": "stdout",
          "text": [
            "1.1429338722988873\n",
            "1.7541636418081372\n"
          ]
        }
      ]
    },
    {
      "cell_type": "code",
      "source": [
        "EEsw = otnos_error(C, Cm) + otnos_error(L, Lm) + otnos_error(E, Em) + Esw\n",
        "EEba = otnos_error(C, Cb) + otnos_error(L, Lb) + otnos_error(E, Eb) + Eba\n",
        "print('EEsw=', EEsw)\n",
        "print('EEba=', EEba)"
      ],
      "metadata": {
        "id": "Ge5lt2A038Lp",
        "colab": {
          "base_uri": "https://localhost:8080/"
        },
        "outputId": "89b81fa7-da13-4fc4-cb8b-51bb9d9f33e7"
      },
      "execution_count": 46,
      "outputs": [
        {
          "output_type": "stream",
          "name": "stdout",
          "text": [
            "EEsw= 2.3605102410177556\n",
            "EEba= 2.557442901007365\n"
          ]
        }
      ]
    }
  ]
}